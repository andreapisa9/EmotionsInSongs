{
 "cells": [
  {
   "cell_type": "code",
   "execution_count": 7,
   "id": "41f35bbb",
   "metadata": {},
   "outputs": [],
   "source": [
    "import numpy as np\n",
    "import pandas\n",
    "import spotipy\n",
    "from spotipy.oauth2 import SpotifyClientCredentials\n",
    "import json"
   ]
  },
  {
   "cell_type": "code",
   "execution_count": 11,
   "id": "423af915",
   "metadata": {},
   "outputs": [],
   "source": [
    "emotions = ['happy', 'sad', 'angry', 'chill', 'dreamy', 'lovey-dovey', 'epic', 'anxious', 'pump-up', 'sexy']\n",
    "\n",
    "client_id = '2d0aef4304064e67bdce269495c514ba'\n",
    "client_secret = 'b0b2829b32cd4963a5de4c35528faf1d'\n",
    "client_credentials_manager = SpotifyClientCredentials(client_id=client_id, client_secret=client_secret)\n",
    "sp = spotipy.Spotify(client_credentials_manager=client_credentials_manager)\n",
    "sp.trace=False\n",
    "\n",
    "songs = []\n",
    "\n",
    "for e in emotions:\n",
    "\n",
    "    search_query = e\n",
    "    result = sp.search(search_query, limit=25, type='playlist')\n",
    "\n",
    "    for i in result['playlists']['items']:\n",
    "\n",
    "        playlist_id = i['id']\n",
    "        tracks = sp.playlist_items(playlist_id)\n",
    "\n",
    "        for j in tracks['items']:\n",
    "            if (j['track'] != None):\n",
    "                track_id = j['track']['id']\n",
    "                songs.append([e, track_id])"
   ]
  },
  {
   "cell_type": "code",
   "execution_count": 17,
   "id": "0881324e",
   "metadata": {},
   "outputs": [
    {
     "data": {
      "text/html": [
       "<div>\n",
       "<style scoped>\n",
       "    .dataframe tbody tr th:only-of-type {\n",
       "        vertical-align: middle;\n",
       "    }\n",
       "\n",
       "    .dataframe tbody tr th {\n",
       "        vertical-align: top;\n",
       "    }\n",
       "\n",
       "    .dataframe thead th {\n",
       "        text-align: right;\n",
       "    }\n",
       "</style>\n",
       "<table border=\"1\" class=\"dataframe\">\n",
       "  <thead>\n",
       "    <tr style=\"text-align: right;\">\n",
       "      <th></th>\n",
       "      <th>emotion</th>\n",
       "      <th>song</th>\n",
       "    </tr>\n",
       "  </thead>\n",
       "  <tbody>\n",
       "    <tr>\n",
       "      <th>count</th>\n",
       "      <td>19952</td>\n",
       "      <td>19937</td>\n",
       "    </tr>\n",
       "    <tr>\n",
       "      <th>unique</th>\n",
       "      <td>10</td>\n",
       "      <td>16340</td>\n",
       "    </tr>\n",
       "    <tr>\n",
       "      <th>top</th>\n",
       "      <td>pump-up</td>\n",
       "      <td>7lPN2DXiMsVn7XUKtOW1CS</td>\n",
       "    </tr>\n",
       "    <tr>\n",
       "      <th>freq</th>\n",
       "      <td>2261</td>\n",
       "      <td>18</td>\n",
       "    </tr>\n",
       "  </tbody>\n",
       "</table>\n",
       "</div>"
      ],
      "text/plain": [
       "        emotion                    song\n",
       "count     19952                   19937\n",
       "unique       10                   16340\n",
       "top     pump-up  7lPN2DXiMsVn7XUKtOW1CS\n",
       "freq       2261                      18"
      ]
     },
     "execution_count": 17,
     "metadata": {},
     "output_type": "execute_result"
    }
   ],
   "source": [
    "array = np.array(songs)\n",
    "df = pandas.DataFrame(array, columns=['emotion', 'song'])\n",
    "df.describe()"
   ]
  },
  {
   "cell_type": "code",
   "execution_count": null,
   "id": "2f23cd95",
   "metadata": {},
   "outputs": [],
   "source": []
  }
 ],
 "metadata": {
  "kernelspec": {
   "display_name": "Python 3",
   "language": "python",
   "name": "python3"
  },
  "language_info": {
   "codemirror_mode": {
    "name": "ipython",
    "version": 3
   },
   "file_extension": ".py",
   "mimetype": "text/x-python",
   "name": "python",
   "nbconvert_exporter": "python",
   "pygments_lexer": "ipython3",
   "version": "3.9.0"
  }
 },
 "nbformat": 4,
 "nbformat_minor": 5
}
