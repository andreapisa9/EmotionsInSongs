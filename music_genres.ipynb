{
 "cells": [
  {
   "cell_type": "code",
   "execution_count": 8,
   "id": "257091ee",
   "metadata": {},
   "outputs": [],
   "source": [
    "import numpy as np\n",
    "import pandas\n",
    "import spotipy\n",
    "from spotipy.oauth2 import SpotifyClientCredentials\n",
    "import json\n",
    "import os"
   ]
  },
  {
   "cell_type": "code",
   "execution_count": 9,
   "id": "a2272911",
   "metadata": {
    "scrolled": false
   },
   "outputs": [
    {
     "output_type": "execute_result",
     "data": {
      "text/plain": [
       "       danceability        energy           key      loudness          mode  \\\n",
       "count  14315.000000  14315.000000  14315.000000  14315.000000  14315.000000   \n",
       "mean       0.587326      0.526128      5.237723    -10.496771      0.640796   \n",
       "std        0.186962      0.286799      3.578986      7.785063      0.479784   \n",
       "min        0.000000      0.000020      0.000000    -46.084000      0.000000   \n",
       "25%        0.478500      0.300000      2.000000    -12.394000      0.000000   \n",
       "50%        0.624000      0.584000      5.000000     -7.448000      1.000000   \n",
       "75%        0.726000      0.766000      8.000000     -5.333500      1.000000   \n",
       "max        0.979000      0.999000     11.000000      1.342000      1.000000   \n",
       "\n",
       "        speechiness  acousticness  instrumentalness       valence  \\\n",
       "count  14315.000000  14315.000000      14315.000000  14315.000000   \n",
       "mean       0.071224      0.413696          0.229057      0.440335   \n",
       "std        0.072419      0.369567          0.376554      0.264052   \n",
       "min        0.000000      0.000000          0.000000      0.000000   \n",
       "25%        0.035800      0.059300          0.000000      0.212000   \n",
       "50%        0.045100      0.293000          0.000065      0.419000   \n",
       "75%        0.069150      0.803000          0.476500      0.652000   \n",
       "max        0.947000      0.996000          1.000000      0.984000   \n",
       "\n",
       "              tempo  \n",
       "count  14315.000000  \n",
       "mean     117.160455  \n",
       "std       29.181167  \n",
       "min        0.000000  \n",
       "25%       96.011000  \n",
       "50%      119.997000  \n",
       "75%      132.075000  \n",
       "max      220.099000  "
      ],
      "text/html": "<div>\n<style scoped>\n    .dataframe tbody tr th:only-of-type {\n        vertical-align: middle;\n    }\n\n    .dataframe tbody tr th {\n        vertical-align: top;\n    }\n\n    .dataframe thead th {\n        text-align: right;\n    }\n</style>\n<table border=\"1\" class=\"dataframe\">\n  <thead>\n    <tr style=\"text-align: right;\">\n      <th></th>\n      <th>danceability</th>\n      <th>energy</th>\n      <th>key</th>\n      <th>loudness</th>\n      <th>mode</th>\n      <th>speechiness</th>\n      <th>acousticness</th>\n      <th>instrumentalness</th>\n      <th>valence</th>\n      <th>tempo</th>\n    </tr>\n  </thead>\n  <tbody>\n    <tr>\n      <th>count</th>\n      <td>14315.000000</td>\n      <td>14315.000000</td>\n      <td>14315.000000</td>\n      <td>14315.000000</td>\n      <td>14315.000000</td>\n      <td>14315.000000</td>\n      <td>14315.000000</td>\n      <td>14315.000000</td>\n      <td>14315.000000</td>\n      <td>14315.000000</td>\n    </tr>\n    <tr>\n      <th>mean</th>\n      <td>0.587326</td>\n      <td>0.526128</td>\n      <td>5.237723</td>\n      <td>-10.496771</td>\n      <td>0.640796</td>\n      <td>0.071224</td>\n      <td>0.413696</td>\n      <td>0.229057</td>\n      <td>0.440335</td>\n      <td>117.160455</td>\n    </tr>\n    <tr>\n      <th>std</th>\n      <td>0.186962</td>\n      <td>0.286799</td>\n      <td>3.578986</td>\n      <td>7.785063</td>\n      <td>0.479784</td>\n      <td>0.072419</td>\n      <td>0.369567</td>\n      <td>0.376554</td>\n      <td>0.264052</td>\n      <td>29.181167</td>\n    </tr>\n    <tr>\n      <th>min</th>\n      <td>0.000000</td>\n      <td>0.000020</td>\n      <td>0.000000</td>\n      <td>-46.084000</td>\n      <td>0.000000</td>\n      <td>0.000000</td>\n      <td>0.000000</td>\n      <td>0.000000</td>\n      <td>0.000000</td>\n      <td>0.000000</td>\n    </tr>\n    <tr>\n      <th>25%</th>\n      <td>0.478500</td>\n      <td>0.300000</td>\n      <td>2.000000</td>\n      <td>-12.394000</td>\n      <td>0.000000</td>\n      <td>0.035800</td>\n      <td>0.059300</td>\n      <td>0.000000</td>\n      <td>0.212000</td>\n      <td>96.011000</td>\n    </tr>\n    <tr>\n      <th>50%</th>\n      <td>0.624000</td>\n      <td>0.584000</td>\n      <td>5.000000</td>\n      <td>-7.448000</td>\n      <td>1.000000</td>\n      <td>0.045100</td>\n      <td>0.293000</td>\n      <td>0.000065</td>\n      <td>0.419000</td>\n      <td>119.997000</td>\n    </tr>\n    <tr>\n      <th>75%</th>\n      <td>0.726000</td>\n      <td>0.766000</td>\n      <td>8.000000</td>\n      <td>-5.333500</td>\n      <td>1.000000</td>\n      <td>0.069150</td>\n      <td>0.803000</td>\n      <td>0.476500</td>\n      <td>0.652000</td>\n      <td>132.075000</td>\n    </tr>\n    <tr>\n      <th>max</th>\n      <td>0.979000</td>\n      <td>0.999000</td>\n      <td>11.000000</td>\n      <td>1.342000</td>\n      <td>1.000000</td>\n      <td>0.947000</td>\n      <td>0.996000</td>\n      <td>1.000000</td>\n      <td>0.984000</td>\n      <td>220.099000</td>\n    </tr>\n  </tbody>\n</table>\n</div>"
     },
     "metadata": {},
     "execution_count": 9
    }
   ],
   "source": [
    "moods = ['happy', 'focus', 'relax', 'fitness', 'party', 'romantic', 'sad']\n",
    "path = './dataset.csv'\n",
    "\n",
    "client_id = '2d0aef4304064e67bdce269495c514ba'\n",
    "client_secret = 'b0b2829b32cd4963a5de4c35528faf1d'\n",
    "client_credentials_manager = SpotifyClientCredentials(client_id=client_id, client_secret=client_secret)\n",
    "sp = spotipy.Spotify(client_credentials_manager=client_credentials_manager)\n",
    "sp.trace=False\n",
    "\n",
    "def create_initial_dataset(moods: list) -> pandas.DataFrame:\n",
    "    \n",
    "    search_results = []\n",
    "    songs = []\n",
    "\n",
    "    #collect 10 playlist IDs for each mood\n",
    "    for m in moods:\n",
    "\n",
    "        search_query = m\n",
    "        result = sp.search(search_query, type='playlist')\n",
    "        search_results.append(result)\n",
    "\n",
    "    print('Playlists scraped successfully...')\n",
    "\n",
    "    #collect audio features from every son m the collected playlists are composed of\n",
    "    for i in range(len(search_results)):\n",
    "        print(moods[i], ':')\n",
    "        for j in search_results[i]['playlists']['items']:\n",
    "            tracks = sp.playlist_items(j['id'])\n",
    "            for k in tracks['items']:\n",
    "                if (k['track'] != None and k['track']['id'] != None and k['track']['id'] != ''):\n",
    "                    #details\n",
    "                    uri = 'spotify:track:' + k['track']['id']\n",
    "                    features = sp.audio_features(uri)\n",
    "                    if (features[0] != None):\n",
    "                        songs.append([moods[i], k['track']['id'], features[0]['danceability'], features[0]['energy'], features[0]['key'], features[0]['loudness'], features[0]['mode'], features[0]['speechiness'], features[0]['acousticness'], features[0]['instrumentalness'], features[0]['valence'], features[0]['tempo']])\n",
    "        print(\"Got 'em tracks!\")\n",
    "    \n",
    "    #create dataframe and store information on a .csv document for quicker retrieval\n",
    "    array = np.array(songs)\n",
    "    df = pandas.DataFrame(array, columns=['mood', 'song', 'danceability', 'energy', 'key', 'loudness', 'mode', 'speechiness', 'acousticness', 'instrumentalness', 'valence', 'tempo'])\n",
    "    df.to_csv('./dataset.csv')\n",
    "    print('Done!')\n",
    "    return df\n",
    "\n",
    "if not os.path.exists(path):\n",
    "    df = create_initial_dataset(moods)\n",
    "\n",
    "else:\n",
    "    df = pandas.read_csv(path)\n",
    "    df.drop('Unnamed: 0', axis=1, inplace=True)\n",
    "    \n",
    "df.describe()"
   ]
  },
  {
   "cell_type": "code",
   "execution_count": 10,
   "id": "e3b38d53",
   "metadata": {},
   "outputs": [
    {
     "output_type": "execute_result",
     "data": {
      "text/plain": [
       "       danceability        energy           key      loudness          mode  \\\n",
       "count  11895.000000  11895.000000  11895.000000  11895.000000  11895.000000   \n",
       "mean       0.579518      0.512194      5.243211    -10.881070      0.642203   \n",
       "std        0.189973      0.289447      3.569900      7.933448      0.479372   \n",
       "min        0.000000      0.000020      0.000000    -46.084000      0.000000   \n",
       "25%        0.465000      0.268000      2.000000    -13.216500      0.000000   \n",
       "50%        0.614000      0.565000      5.000000     -7.733000      1.000000   \n",
       "75%        0.721000      0.755000      8.000000     -5.470000      1.000000   \n",
       "max        0.979000      0.999000     11.000000      1.342000      1.000000   \n",
       "\n",
       "        speechiness  acousticness  instrumentalness       valence  \\\n",
       "count  11895.000000  11895.000000      11895.000000  11895.000000   \n",
       "mean       0.070706      0.429839          0.249828      0.435119   \n",
       "std        0.073031      0.371998          0.387414      0.266426   \n",
       "min        0.000000      0.000000          0.000000      0.000000   \n",
       "25%        0.035500      0.065400          0.000000      0.203000   \n",
       "50%        0.044900      0.325000          0.000111      0.409000   \n",
       "75%        0.068000      0.830500          0.703000      0.649500   \n",
       "max        0.947000      0.996000          1.000000      0.984000   \n",
       "\n",
       "              tempo  \n",
       "count  11895.000000  \n",
       "mean     116.825789  \n",
       "std       30.034697  \n",
       "min        0.000000  \n",
       "25%       94.933500  \n",
       "50%      119.945000  \n",
       "75%      133.905000  \n",
       "max      220.099000  "
      ],
      "text/html": "<div>\n<style scoped>\n    .dataframe tbody tr th:only-of-type {\n        vertical-align: middle;\n    }\n\n    .dataframe tbody tr th {\n        vertical-align: top;\n    }\n\n    .dataframe thead th {\n        text-align: right;\n    }\n</style>\n<table border=\"1\" class=\"dataframe\">\n  <thead>\n    <tr style=\"text-align: right;\">\n      <th></th>\n      <th>danceability</th>\n      <th>energy</th>\n      <th>key</th>\n      <th>loudness</th>\n      <th>mode</th>\n      <th>speechiness</th>\n      <th>acousticness</th>\n      <th>instrumentalness</th>\n      <th>valence</th>\n      <th>tempo</th>\n    </tr>\n  </thead>\n  <tbody>\n    <tr>\n      <th>count</th>\n      <td>11895.000000</td>\n      <td>11895.000000</td>\n      <td>11895.000000</td>\n      <td>11895.000000</td>\n      <td>11895.000000</td>\n      <td>11895.000000</td>\n      <td>11895.000000</td>\n      <td>11895.000000</td>\n      <td>11895.000000</td>\n      <td>11895.000000</td>\n    </tr>\n    <tr>\n      <th>mean</th>\n      <td>0.579518</td>\n      <td>0.512194</td>\n      <td>5.243211</td>\n      <td>-10.881070</td>\n      <td>0.642203</td>\n      <td>0.070706</td>\n      <td>0.429839</td>\n      <td>0.249828</td>\n      <td>0.435119</td>\n      <td>116.825789</td>\n    </tr>\n    <tr>\n      <th>std</th>\n      <td>0.189973</td>\n      <td>0.289447</td>\n      <td>3.569900</td>\n      <td>7.933448</td>\n      <td>0.479372</td>\n      <td>0.073031</td>\n      <td>0.371998</td>\n      <td>0.387414</td>\n      <td>0.266426</td>\n      <td>30.034697</td>\n    </tr>\n    <tr>\n      <th>min</th>\n      <td>0.000000</td>\n      <td>0.000020</td>\n      <td>0.000000</td>\n      <td>-46.084000</td>\n      <td>0.000000</td>\n      <td>0.000000</td>\n      <td>0.000000</td>\n      <td>0.000000</td>\n      <td>0.000000</td>\n      <td>0.000000</td>\n    </tr>\n    <tr>\n      <th>25%</th>\n      <td>0.465000</td>\n      <td>0.268000</td>\n      <td>2.000000</td>\n      <td>-13.216500</td>\n      <td>0.000000</td>\n      <td>0.035500</td>\n      <td>0.065400</td>\n      <td>0.000000</td>\n      <td>0.203000</td>\n      <td>94.933500</td>\n    </tr>\n    <tr>\n      <th>50%</th>\n      <td>0.614000</td>\n      <td>0.565000</td>\n      <td>5.000000</td>\n      <td>-7.733000</td>\n      <td>1.000000</td>\n      <td>0.044900</td>\n      <td>0.325000</td>\n      <td>0.000111</td>\n      <td>0.409000</td>\n      <td>119.945000</td>\n    </tr>\n    <tr>\n      <th>75%</th>\n      <td>0.721000</td>\n      <td>0.755000</td>\n      <td>8.000000</td>\n      <td>-5.470000</td>\n      <td>1.000000</td>\n      <td>0.068000</td>\n      <td>0.830500</td>\n      <td>0.703000</td>\n      <td>0.649500</td>\n      <td>133.905000</td>\n    </tr>\n    <tr>\n      <th>max</th>\n      <td>0.979000</td>\n      <td>0.999000</td>\n      <td>11.000000</td>\n      <td>1.342000</td>\n      <td>1.000000</td>\n      <td>0.947000</td>\n      <td>0.996000</td>\n      <td>1.000000</td>\n      <td>0.984000</td>\n      <td>220.099000</td>\n    </tr>\n  </tbody>\n</table>\n</div>"
     },
     "metadata": {},
     "execution_count": 10
    }
   ],
   "source": [
    "df.drop_duplicates(subset='song', inplace=True)\n",
    "df.reset_index(drop=True, inplace=True)\n",
    "df.describe()"
   ]
  },
  {
   "cell_type": "code",
   "execution_count": 11,
   "id": "f340b372",
   "metadata": {},
   "outputs": [
    {
     "output_type": "execute_result",
     "data": {
      "text/plain": [
       "        mood                    song  danceability  energy  key  loudness  \\\n",
       "0      happy  0W1jh3ExLv0nMvvmNJOBxh         0.806  0.7530   11    -6.247   \n",
       "1      happy  2tYbp6gUNzQXYj8XhVAh9e         0.547  0.8810    0    -3.152   \n",
       "2      happy  2jPgrYdSzHarxh2v6O6aUc         0.809  0.4860    9   -11.028   \n",
       "3      happy  5hct3OPZEhHKqvGyRqq2TA         0.796  0.7690    1    -1.632   \n",
       "4      happy  1OfHes9WQdGQSIgNwrqIAw         0.642  0.9070    2    -3.260   \n",
       "...      ...                     ...           ...     ...  ...       ...   \n",
       "11890    sad  0cHAXbQfTlBIJrzIOW8kUv         0.527  0.0861    5   -15.326   \n",
       "11891    sad  5pLpkaIRobcvPnUmclNv6o         0.597  0.3630    5   -10.365   \n",
       "11892    sad  5VjTlCuX8C11QDunDwvyNh         0.617  0.3150    3    -7.998   \n",
       "11893    sad  5RzH8ZRHQgkgdZgyQqwIRg         0.393  0.0180    2   -20.968   \n",
       "11894    sad  5jvgec3P4jyoZUPTy2pWDR         0.432  0.6520    8    -4.969   \n",
       "\n",
       "       mode  speechiness  acousticness  instrumentalness  valence    tempo  \n",
       "0         0       0.0534      0.031000          0.500000   0.8460  122.990  \n",
       "1         0       0.0512      0.015900          0.000000   0.2150   99.979  \n",
       "2         0       0.0712      0.143000          0.861000   0.3090  123.024  \n",
       "3         1       0.0356      0.000305          0.776000   0.4080  123.987  \n",
       "4         0       0.0507      0.007680          0.000064   0.3570  107.060  \n",
       "...     ...          ...           ...               ...      ...      ...  \n",
       "11890     1       0.0301      0.920000          0.000334   0.2250  103.582  \n",
       "11891     0       0.0314      0.626000          0.000030   0.0785  130.022  \n",
       "11892     1       0.0326      0.771000          0.000000   0.4470  119.822  \n",
       "11893     1       0.0421      0.964000          0.000400   0.1150  105.115  \n",
       "11894     1       0.0285      0.262000          0.000000   0.5070  190.028  \n",
       "\n",
       "[11895 rows x 12 columns]"
      ],
      "text/html": "<div>\n<style scoped>\n    .dataframe tbody tr th:only-of-type {\n        vertical-align: middle;\n    }\n\n    .dataframe tbody tr th {\n        vertical-align: top;\n    }\n\n    .dataframe thead th {\n        text-align: right;\n    }\n</style>\n<table border=\"1\" class=\"dataframe\">\n  <thead>\n    <tr style=\"text-align: right;\">\n      <th></th>\n      <th>mood</th>\n      <th>song</th>\n      <th>danceability</th>\n      <th>energy</th>\n      <th>key</th>\n      <th>loudness</th>\n      <th>mode</th>\n      <th>speechiness</th>\n      <th>acousticness</th>\n      <th>instrumentalness</th>\n      <th>valence</th>\n      <th>tempo</th>\n    </tr>\n  </thead>\n  <tbody>\n    <tr>\n      <th>0</th>\n      <td>happy</td>\n      <td>0W1jh3ExLv0nMvvmNJOBxh</td>\n      <td>0.806</td>\n      <td>0.7530</td>\n      <td>11</td>\n      <td>-6.247</td>\n      <td>0</td>\n      <td>0.0534</td>\n      <td>0.031000</td>\n      <td>0.500000</td>\n      <td>0.8460</td>\n      <td>122.990</td>\n    </tr>\n    <tr>\n      <th>1</th>\n      <td>happy</td>\n      <td>2tYbp6gUNzQXYj8XhVAh9e</td>\n      <td>0.547</td>\n      <td>0.8810</td>\n      <td>0</td>\n      <td>-3.152</td>\n      <td>0</td>\n      <td>0.0512</td>\n      <td>0.015900</td>\n      <td>0.000000</td>\n      <td>0.2150</td>\n      <td>99.979</td>\n    </tr>\n    <tr>\n      <th>2</th>\n      <td>happy</td>\n      <td>2jPgrYdSzHarxh2v6O6aUc</td>\n      <td>0.809</td>\n      <td>0.4860</td>\n      <td>9</td>\n      <td>-11.028</td>\n      <td>0</td>\n      <td>0.0712</td>\n      <td>0.143000</td>\n      <td>0.861000</td>\n      <td>0.3090</td>\n      <td>123.024</td>\n    </tr>\n    <tr>\n      <th>3</th>\n      <td>happy</td>\n      <td>5hct3OPZEhHKqvGyRqq2TA</td>\n      <td>0.796</td>\n      <td>0.7690</td>\n      <td>1</td>\n      <td>-1.632</td>\n      <td>1</td>\n      <td>0.0356</td>\n      <td>0.000305</td>\n      <td>0.776000</td>\n      <td>0.4080</td>\n      <td>123.987</td>\n    </tr>\n    <tr>\n      <th>4</th>\n      <td>happy</td>\n      <td>1OfHes9WQdGQSIgNwrqIAw</td>\n      <td>0.642</td>\n      <td>0.9070</td>\n      <td>2</td>\n      <td>-3.260</td>\n      <td>0</td>\n      <td>0.0507</td>\n      <td>0.007680</td>\n      <td>0.000064</td>\n      <td>0.3570</td>\n      <td>107.060</td>\n    </tr>\n    <tr>\n      <th>...</th>\n      <td>...</td>\n      <td>...</td>\n      <td>...</td>\n      <td>...</td>\n      <td>...</td>\n      <td>...</td>\n      <td>...</td>\n      <td>...</td>\n      <td>...</td>\n      <td>...</td>\n      <td>...</td>\n      <td>...</td>\n    </tr>\n    <tr>\n      <th>11890</th>\n      <td>sad</td>\n      <td>0cHAXbQfTlBIJrzIOW8kUv</td>\n      <td>0.527</td>\n      <td>0.0861</td>\n      <td>5</td>\n      <td>-15.326</td>\n      <td>1</td>\n      <td>0.0301</td>\n      <td>0.920000</td>\n      <td>0.000334</td>\n      <td>0.2250</td>\n      <td>103.582</td>\n    </tr>\n    <tr>\n      <th>11891</th>\n      <td>sad</td>\n      <td>5pLpkaIRobcvPnUmclNv6o</td>\n      <td>0.597</td>\n      <td>0.3630</td>\n      <td>5</td>\n      <td>-10.365</td>\n      <td>0</td>\n      <td>0.0314</td>\n      <td>0.626000</td>\n      <td>0.000030</td>\n      <td>0.0785</td>\n      <td>130.022</td>\n    </tr>\n    <tr>\n      <th>11892</th>\n      <td>sad</td>\n      <td>5VjTlCuX8C11QDunDwvyNh</td>\n      <td>0.617</td>\n      <td>0.3150</td>\n      <td>3</td>\n      <td>-7.998</td>\n      <td>1</td>\n      <td>0.0326</td>\n      <td>0.771000</td>\n      <td>0.000000</td>\n      <td>0.4470</td>\n      <td>119.822</td>\n    </tr>\n    <tr>\n      <th>11893</th>\n      <td>sad</td>\n      <td>5RzH8ZRHQgkgdZgyQqwIRg</td>\n      <td>0.393</td>\n      <td>0.0180</td>\n      <td>2</td>\n      <td>-20.968</td>\n      <td>1</td>\n      <td>0.0421</td>\n      <td>0.964000</td>\n      <td>0.000400</td>\n      <td>0.1150</td>\n      <td>105.115</td>\n    </tr>\n    <tr>\n      <th>11894</th>\n      <td>sad</td>\n      <td>5jvgec3P4jyoZUPTy2pWDR</td>\n      <td>0.432</td>\n      <td>0.6520</td>\n      <td>8</td>\n      <td>-4.969</td>\n      <td>1</td>\n      <td>0.0285</td>\n      <td>0.262000</td>\n      <td>0.000000</td>\n      <td>0.5070</td>\n      <td>190.028</td>\n    </tr>\n  </tbody>\n</table>\n<p>11895 rows × 12 columns</p>\n</div>"
     },
     "metadata": {},
     "execution_count": 11
    }
   ],
   "source": [
    "df.iloc[:, 2:].astype('float')\n",
    "df.head(len(df))"
   ]
  },
  {
   "cell_type": "code",
   "execution_count": 32,
   "id": "cda8178b",
   "metadata": {},
   "outputs": [
    {
     "output_type": "stream",
     "name": "stdout",
     "text": [
      "[372, 654, 545, 0, 288, 493, 149]\n",
      "1342\n",
      "2684\n",
      "[1342, 1996, 1887, 1342, 1630, 1835, 1491]\n",
      "4026\n",
      "[1342, 1342, 1887, 1342, 1630, 1835, 1491]\n",
      "5368\n",
      "[1342, 1342, 1342, 1342, 1630, 1835, 1491]\n",
      "6710\n",
      "[1342, 1342, 1342, 1342, 1630, 1835, 1491]\n",
      "8052\n",
      "[1342, 1342, 1342, 1113, 1571, 1835, 1491]\n",
      "9394\n",
      "[1342, 1342, 1342, 1113, 1078, 1835, 1491]\n",
      "10736\n",
      "[1342, 1342, 1342, 1113, 1078, 1686, 1491]\n"
     ]
    }
   ],
   "source": [
    "def count_songs_for_mood(df: pandas.DataFrame) -> list:\n",
    "    \n",
    "    counter = [0 for i in moods]\n",
    "\n",
    "    for j in range(len(df)):\n",
    "        m = df.iloc[j]['mood']\n",
    "        for k in range(len(moods)):\n",
    "            if moods[k] == m:\n",
    "                counter[k] += 1\n",
    "    return counter\n",
    "\n",
    "counter = count_songs_for_mood(df)\n",
    "\n",
    "min = 5000\n",
    "for i in counter:\n",
    "    if i < min:\n",
    "        min = i\n",
    "\n",
    "differences = [(a - min) for a in counter]\n",
    "print(differences)\n",
    "print(min)\n",
    "i = 0\n",
    "c = min\n",
    "df2 = df.copy()\n",
    "while (i < len(moods)):\n",
    "    i += 1\n",
    "    if differences[i] != 0:\n",
    "        df2 = df2.drop([(c + b) for b in range(differences[i])])\n",
    "        counter2 = count_songs_for_mood(df2)\n",
    "    c += min\n",
    "    print(c)\n",
    "    print(counter2)\n",
    "\n"
   ]
  },
  {
   "cell_type": "code",
   "execution_count": 26,
   "id": "81f4a255",
   "metadata": {},
   "outputs": [
    {
     "output_type": "execute_result",
     "data": {
      "text/plain": [
       "[1714, 1996, 1887, 1342, 1630, 1835, 1491]"
      ]
     },
     "metadata": {},
     "execution_count": 26
    }
   ],
   "source": [
    "counter"
   ]
  },
  {
   "cell_type": "code",
   "execution_count": 27,
   "metadata": {},
   "outputs": [
    {
     "output_type": "execute_result",
     "data": {
      "text/plain": [
       "[1342, 0, 0, 0, 0, 861, 1491]"
      ]
     },
     "metadata": {},
     "execution_count": 27
    }
   ],
   "source": [
    "counter2"
   ]
  },
  {
   "cell_type": "code",
   "execution_count": 14,
   "id": "829be866",
   "metadata": {},
   "outputs": [
    {
     "output_type": "display_data",
     "data": {
      "text/plain": "<Figure size 2160x2160 with 0 Axes>"
     },
     "metadata": {}
    }
   ],
   "source": [
    "import matplotlib.pyplot as plt\n",
    "plt.figure(1, figsize=(30,30))\n",
    "\n",
    "def draw_scatters(counter: list, df: pandas.DataFrame):\n",
    "    \n",
    "    curpos = 0\n",
    "    cc = 1\n",
    "\n",
    "    for c in counter:\n",
    "        df_single_mood = df[curpos:curpos + c]\n",
    "        df_single_mood = df_single_mood[['energy', 'valence']].astype('float')\n",
    "        \n",
    "        curpos += c\n",
    "        \n",
    "        plt.subplot(10, 1, cc)\n",
    "        plt.scatter([float(x) for x in df_single_mood['energy']], [float (x) for x in df_single_mood['valence']])\n",
    "        plt.xlabel('energy')\n",
    "        plt.ylabel('valence')\n",
    "        \n",
    "        cc += 1\n",
    "        \n",
    "#draw_scatters(counter, df_en_val)"
   ]
  },
  {
   "cell_type": "code",
   "execution_count": 15,
   "id": "f1ffdc04",
   "metadata": {},
   "outputs": [
    {
     "output_type": "stream",
     "name": "stdout",
     "text": [
      "[1714, 1996, 1887, 1342, 1630, 1835, 1491]\n",
      "[1527, 1882, 1812, 1184, 1440, 1686, 1382]\n"
     ]
    }
   ],
   "source": [
    "#normalize and standardize possible outliers\n",
    "df.loc[:, 'key'] = (df.key - df.key.min()) / (df.key.max() - df.key.min())\n",
    "df.loc[:, 'loudness'] = (df.loudness - df.loudness.min()) / (df.loudness.max() - df.loudness.min())\n",
    "df.loc[:, 'tempo'] = (df.tempo - df.tempo.min()) / (df.tempo.max() - df.tempo.min())\n",
    "\n",
    "#outliers detection based on zscore on all features\n",
    "from scipy import stats\n",
    "import math\n",
    "\n",
    "#to check how many will be cut off\n",
    "counter = count_songs_for_mood(df)\n",
    "print(counter)\n",
    "\n",
    "df_no_id = df.loc[:, ['mood', 'danceability', 'energy', 'key', 'loudness', 'mode', 'speechiness', 'acousticness', 'instrumentalness', 'valence', 'tempo']]\n",
    "df_no_id.iloc[:, 1:11] = df_no_id.iloc[:, 1:11].astype('float')\n",
    "\n",
    "#empty DataFrame, to be built with next for cycle\n",
    "df_to_build = pandas.DataFrame()\n",
    "\n",
    "#remove outliers based on z-score on every feature\n",
    "curpos = 0\n",
    "for c in counter:\n",
    "\n",
    "    df_no_id_single_mood = df_no_id.iloc[curpos:curpos+c, 1:11]\n",
    "    z = np.abs(stats.zscore(df_no_id_single_mood))\n",
    "\n",
    "    threshold = 3\n",
    "\n",
    "    df_no_id_single_mood = df_no_id_single_mood[(z < threshold).all(axis=1)]\n",
    "    df_no_id_single_mood = df_no_id_single_mood.merge(df_no_id.iloc[curpos:curpos+c], on=['danceability', 'energy', 'key', 'loudness', 'mode', 'speechiness', 'acousticness', 'instrumentalness', 'valence', 'tempo'])\n",
    "    df_no_id_single_mood.drop_duplicates(inplace=True)\n",
    "    df_to_build = pandas.concat([df_to_build, df_no_id_single_mood])\n",
    "\n",
    "    curpos += c\n",
    "    \n",
    "counter = count_songs_for_mood(df_to_build)\n",
    "print(counter)"
   ]
  },
  {
   "cell_type": "code",
   "execution_count": null,
   "metadata": {},
   "outputs": [],
   "source": [
    "df_cpy = df.copy()\n",
    "\n",
    "def "
   ]
  },
  {
   "cell_type": "code",
   "execution_count": 16,
   "id": "53e33bef",
   "metadata": {},
   "outputs": [],
   "source": [
    "from sklearn.model_selection import train_test_split\n",
    "\n",
    "y, X = df_to_build['mood'], df_to_build.iloc[:, :10]\n",
    "\n",
    "X_train, X_test, y_train, y_test = train_test_split(X, y, test_size=0.33, random_state=42)"
   ]
  },
  {
   "cell_type": "code",
   "execution_count": 17,
   "id": "4e79918c",
   "metadata": {},
   "outputs": [],
   "source": [
    "from sklearn.tree import DecisionTreeClassifier\n",
    "from sklearn.svm import SVC\n",
    "from sklearn.naive_bayes import MultinomialNB\n",
    "from sklearn.ensemble import RandomForestClassifier\n",
    "from sklearn.neighbors import KNeighborsClassifier\n",
    "from sklearn.gaussian_process import GaussianProcessClassifier\n",
    "from sklearn.discriminant_analysis import QuadraticDiscriminantAnalysis\n",
    "from sklearn.ensemble import AdaBoostClassifier\n",
    "from sklearn.neural_network import MLPClassifier\n",
    "import seaborn as sns"
   ]
  },
  {
   "cell_type": "code",
   "execution_count": 18,
   "id": "e6801291",
   "metadata": {},
   "outputs": [],
   "source": [
    "def fit_classifiers(X_train: pandas.DataFrame, y_train: pandas.DataFrame, X_test: pandas.DataFrame, y_test: pandas.DataFrame):\n",
    "    \n",
    "    classifier_names = ['DecisionTreeClassifier', 'SVC', 'MultinomialNB', 'RandomForestClassifier', 'KNeighborsClassifier', 'QuadraticDiscriminantAnalysis', 'AdaBoostClassifier', 'MLPClassifier']\n",
    "    \n",
    "    classifiers = [DecisionTreeClassifier(), SVC(gamma='auto', probability=True), MultinomialNB(), RandomForestClassifier(),\n",
    "                   KNeighborsClassifier(), QuadraticDiscriminantAnalysis(), AdaBoostClassifier(),\n",
    "                   MLPClassifier(max_iter=1000)]\n",
    "    \n",
    "    test_scores = []\n",
    "    \n",
    "    for clf in range(len(classifiers)):\n",
    "        \n",
    "        classifiers[clf].fit(X_train, y_train)\n",
    "        print(classifier_names[clf]+':')\n",
    "        print(\"TRAIN SET\", classifiers[clf].score(X_train, y_train))\n",
    "        test_score = classifiers[clf].score(X_test, y_test)\n",
    "        print(\"TEST SET\", test_score)\n",
    "        test_scores.append(test_score)\n",
    "        print('\\n\\n')\n",
    "        \n",
    "    max = 0\n",
    "    id = 0\n",
    "    for i in range(len(test_scores)):\n",
    "        if test_scores[i] > max:\n",
    "            id = i\n",
    "            max = test_scores[i]\n",
    "        \n",
    "    return classifiers"
   ]
  },
  {
   "cell_type": "code",
   "execution_count": 19,
   "id": "81ce913a",
   "metadata": {},
   "outputs": [
    {
     "output_type": "stream",
     "name": "stdout",
     "text": [
      "DecisionTreeClassifier:\n",
      "TRAIN SET 0.9948023526193407\n",
      "TEST SET 0.39811215991116045\n",
      "\n",
      "\n",
      "\n",
      "SVC:\n",
      "TRAIN SET 0.4500068390097114\n",
      "TEST SET 0.44031093836757357\n",
      "\n",
      "\n",
      "\n",
      "MultinomialNB:\n",
      "TRAIN SET 0.4065107372452469\n",
      "TEST SET 0.40033314825097166\n",
      "\n",
      "\n",
      "\n",
      "RandomForestClassifier:\n",
      "TRAIN SET 0.9948023526193407\n",
      "TEST SET 0.5052748473070516\n",
      "\n",
      "\n",
      "\n",
      "KNeighborsClassifier:\n",
      "TRAIN SET 0.6088086445082752\n",
      "TEST SET 0.42309827873403666\n",
      "\n",
      "\n",
      "\n",
      "QuadraticDiscriminantAnalysis:\n",
      "TRAIN SET 0.464779099986322\n",
      "TEST SET 0.4597445863409217\n",
      "\n",
      "\n",
      "\n",
      "AdaBoostClassifier:\n",
      "TRAIN SET 0.4356449186157844\n",
      "TEST SET 0.42171016102165465\n",
      "\n",
      "\n",
      "\n",
      "MLPClassifier:\n",
      "TRAIN SET 0.5040350157297223\n",
      "TEST SET 0.48861743475846753\n",
      "\n",
      "\n",
      "\n"
     ]
    }
   ],
   "source": [
    "best_clf = fit_classifiers(X_train, y_train, X_test, y_test)"
   ]
  },
  {
   "cell_type": "code",
   "execution_count": 21,
   "id": "8eb0f215",
   "metadata": {},
   "outputs": [
    {
     "output_type": "stream",
     "name": "stdout",
     "text": [
      "[False  True False  True False False  True  True  True False]\n"
     ]
    },
    {
     "output_type": "execute_result",
     "data": {
      "text/plain": [
       "       danceability        energy           key      loudness          mode  \\\n",
       "count  11895.000000  11895.000000  11895.000000  11895.000000  11895.000000   \n",
       "mean       0.579518      0.512194      0.476656      0.742271      0.642203   \n",
       "std        0.189973      0.289447      0.324536      0.167281      0.479372   \n",
       "min        0.000000      0.000020      0.000000      0.000000      0.000000   \n",
       "25%        0.465000      0.268000      0.181818      0.693027      0.000000   \n",
       "50%        0.614000      0.565000      0.454545      0.808649      1.000000   \n",
       "75%        0.721000      0.755000      0.727273      0.856366      1.000000   \n",
       "max        0.979000      0.999000      1.000000      1.000000      1.000000   \n",
       "\n",
       "        speechiness  acousticness  instrumentalness       valence  \\\n",
       "count  11895.000000  11895.000000      11895.000000  11895.000000   \n",
       "mean       0.070706      0.429839          0.249828      0.435119   \n",
       "std        0.073031      0.371998          0.387414      0.266426   \n",
       "min        0.000000      0.000000          0.000000      0.000000   \n",
       "25%        0.035500      0.065400          0.000000      0.203000   \n",
       "50%        0.044900      0.325000          0.000111      0.409000   \n",
       "75%        0.068000      0.830500          0.703000      0.649500   \n",
       "max        0.947000      0.996000          1.000000      0.984000   \n",
       "\n",
       "              tempo  \n",
       "count  11895.000000  \n",
       "mean       0.530787  \n",
       "std        0.136460  \n",
       "min        0.000000  \n",
       "25%        0.431322  \n",
       "50%        0.544959  \n",
       "75%        0.608385  \n",
       "max        1.000000  "
      ],
      "text/html": "<div>\n<style scoped>\n    .dataframe tbody tr th:only-of-type {\n        vertical-align: middle;\n    }\n\n    .dataframe tbody tr th {\n        vertical-align: top;\n    }\n\n    .dataframe thead th {\n        text-align: right;\n    }\n</style>\n<table border=\"1\" class=\"dataframe\">\n  <thead>\n    <tr style=\"text-align: right;\">\n      <th></th>\n      <th>danceability</th>\n      <th>energy</th>\n      <th>key</th>\n      <th>loudness</th>\n      <th>mode</th>\n      <th>speechiness</th>\n      <th>acousticness</th>\n      <th>instrumentalness</th>\n      <th>valence</th>\n      <th>tempo</th>\n    </tr>\n  </thead>\n  <tbody>\n    <tr>\n      <th>count</th>\n      <td>11895.000000</td>\n      <td>11895.000000</td>\n      <td>11895.000000</td>\n      <td>11895.000000</td>\n      <td>11895.000000</td>\n      <td>11895.000000</td>\n      <td>11895.000000</td>\n      <td>11895.000000</td>\n      <td>11895.000000</td>\n      <td>11895.000000</td>\n    </tr>\n    <tr>\n      <th>mean</th>\n      <td>0.579518</td>\n      <td>0.512194</td>\n      <td>0.476656</td>\n      <td>0.742271</td>\n      <td>0.642203</td>\n      <td>0.070706</td>\n      <td>0.429839</td>\n      <td>0.249828</td>\n      <td>0.435119</td>\n      <td>0.530787</td>\n    </tr>\n    <tr>\n      <th>std</th>\n      <td>0.189973</td>\n      <td>0.289447</td>\n      <td>0.324536</td>\n      <td>0.167281</td>\n      <td>0.479372</td>\n      <td>0.073031</td>\n      <td>0.371998</td>\n      <td>0.387414</td>\n      <td>0.266426</td>\n      <td>0.136460</td>\n    </tr>\n    <tr>\n      <th>min</th>\n      <td>0.000000</td>\n      <td>0.000020</td>\n      <td>0.000000</td>\n      <td>0.000000</td>\n      <td>0.000000</td>\n      <td>0.000000</td>\n      <td>0.000000</td>\n      <td>0.000000</td>\n      <td>0.000000</td>\n      <td>0.000000</td>\n    </tr>\n    <tr>\n      <th>25%</th>\n      <td>0.465000</td>\n      <td>0.268000</td>\n      <td>0.181818</td>\n      <td>0.693027</td>\n      <td>0.000000</td>\n      <td>0.035500</td>\n      <td>0.065400</td>\n      <td>0.000000</td>\n      <td>0.203000</td>\n      <td>0.431322</td>\n    </tr>\n    <tr>\n      <th>50%</th>\n      <td>0.614000</td>\n      <td>0.565000</td>\n      <td>0.454545</td>\n      <td>0.808649</td>\n      <td>1.000000</td>\n      <td>0.044900</td>\n      <td>0.325000</td>\n      <td>0.000111</td>\n      <td>0.409000</td>\n      <td>0.544959</td>\n    </tr>\n    <tr>\n      <th>75%</th>\n      <td>0.721000</td>\n      <td>0.755000</td>\n      <td>0.727273</td>\n      <td>0.856366</td>\n      <td>1.000000</td>\n      <td>0.068000</td>\n      <td>0.830500</td>\n      <td>0.703000</td>\n      <td>0.649500</td>\n      <td>0.608385</td>\n    </tr>\n    <tr>\n      <th>max</th>\n      <td>0.979000</td>\n      <td>0.999000</td>\n      <td>1.000000</td>\n      <td>1.000000</td>\n      <td>1.000000</td>\n      <td>0.947000</td>\n      <td>0.996000</td>\n      <td>1.000000</td>\n      <td>0.984000</td>\n      <td>1.000000</td>\n    </tr>\n  </tbody>\n</table>\n</div>"
     },
     "metadata": {},
     "execution_count": 21
    }
   ],
   "source": [
    "from sklearn.feature_selection import SelectKBest, f_classif\n",
    "\n",
    "select = SelectKBest(f_classif, k=5)\n",
    "select.fit(X_train, y_train)\n",
    "mask = select.get_support()\n",
    "print(mask)\n",
    "df.describe()"
   ]
  },
  {
   "cell_type": "code",
   "execution_count": 22,
   "id": "4717bec0",
   "metadata": {},
   "outputs": [
    {
     "output_type": "stream",
     "name": "stdout",
     "text": [
      "Best_clf:\n['fitness']\n['focus']\n['sad']\n['party']\n['focus']\n['focus']\n['party']\n['romantic']\n"
     ]
    }
   ],
   "source": [
    "#TODO:\n",
    "#-più grafici\n",
    "\n",
    "#Testing a mano\n",
    "title = input('Song title: ')\n",
    "artist = input('Song artist: ')\n",
    "uri = ''\n",
    "\n",
    "search_query = title + ' ' + artist\n",
    "result = sp.search(search_query)\n",
    "\n",
    "for i in result['tracks']['items']:\n",
    "    # Find a song that matches title and artist\n",
    "    if (i['artists'][0]['name'] == artist) and (i['name'] == title):\n",
    "        uri = i['uri']\n",
    "        break\n",
    "else:\n",
    "    try:\n",
    "        # Just take the first song returned by the search (might be named differently)\n",
    "        uri = result['tracks']['items'][0]['uri']\n",
    "    except:\n",
    "        # No results for artist and title\n",
    "        print (\"Cannot Find URI\")\n",
    "\n",
    "features = sp.audio_features(uri)\n",
    "song = []\n",
    "\n",
    "if (features[0] != None):\n",
    "    song.append([features[0]['danceability'], features[0]['energy'], features[0]['key'], features[0]['loudness'], features[0]['mode'], features[0]['speechiness'], features[0]['acousticness'], features[0]['instrumentalness'], features[0]['valence'], features[0]['tempo']])\n",
    "    array = np.array(song)\n",
    "    df_app = pandas.DataFrame(array, columns=['danceability', 'energy', 'key', 'loudness', 'mode', 'speechiness', 'acousticness', 'instrumentalness', 'valence', 'tempo'])\n",
    "    print (\"Best_clf:\")\n",
    "    for j in best_clf:\n",
    "        prediction = j.predict(df_app)\n",
    "        print(prediction)"
   ]
  },
  {
   "cell_type": "code",
   "execution_count": null,
   "metadata": {},
   "outputs": [],
   "source": []
  }
 ],
 "metadata": {
  "kernelspec": {
   "name": "python390jvsc74a57bd0468f25ad0239460415b7e6b7483d5c8f7213894121f6fb96c4cb6ef93fffe534",
   "display_name": "Python 3.9.0 64-bit"
  },
  "language_info": {
   "codemirror_mode": {
    "name": "ipython",
    "version": 3
   },
   "file_extension": ".py",
   "mimetype": "text/x-python",
   "name": "python",
   "nbconvert_exporter": "python",
   "pygments_lexer": "ipython3",
   "version": "3.9.0"
  }
 },
 "nbformat": 4,
 "nbformat_minor": 5
}